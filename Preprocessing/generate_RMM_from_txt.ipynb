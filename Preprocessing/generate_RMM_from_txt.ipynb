{
 "cells": [
  {
   "cell_type": "code",
   "execution_count": 55,
   "metadata": {},
   "outputs": [],
   "source": [
    "from pathlib import Path\n",
    "import warnings\n",
    "warnings.filterwarnings(\"ignore\")\n",
    "\n",
    "import xarray as xr\n",
    "import os\n",
    "import numpy as np\n",
    "import pandas as pd\n",
    "import datetime "
   ]
  },
  {
   "cell_type": "code",
   "execution_count": 56,
   "metadata": {},
   "outputs": [],
   "source": [
    "# set variable downloaded from the 20th century Reanalysis Data\n",
    "vrbl = 'RMM'\n",
    "\n",
    "dataset_dir = '/mnt/beegfs/home/bommer1/WiOSTNN/Data/Index/'\n",
    "    \n",
    "start_yr, end_year = 1980, 2023 # set both to None to use all available years\n",
    "months_to_keep = [11, 12, 1, 2, 3]\n",
    "start_season, end_season = '11-10', '04-04'\n",
    "\n",
    "file_name = 'rMII_index_latest.txt'\n",
    "file_out = f\"rmm_index_{start_yr}-{start_season}_{end_year}-{end_season}.nc\""
   ]
  },
  {
   "cell_type": "code",
   "execution_count": 57,
   "metadata": {},
   "outputs": [],
   "source": [
    "# Load as numpy array.\n",
    "X = np.loadtxt(dataset_dir + file_name)\n"
   ]
  },
  {
   "cell_type": "markdown",
   "metadata": {},
   "source": [
    "## Format in dataset (xarray)"
   ]
  },
  {
   "cell_type": "code",
   "execution_count": 58,
   "metadata": {},
   "outputs": [],
   "source": [
    "datetimes = []\n",
    "rmm1 = []\n",
    "rmm2 = []\n",
    "indexs = []\n",
    "\n",
    "for i in range(len(X)):\n",
    "    datetimes.append(np.datetime64(datetime.date(int(X[i][0]), int(X[i][1]), int(X[i][2]))))\n",
    "    rmm1.append(X[i][3])\n",
    "    rmm2.append(X[i][4])\n",
    "    indexs.append(X[i][5])\n",
    "\n",
    "\n",
    "rmm1 = np.array(rmm1)\n",
    "rmm2 = np.array(rmm2)\n",
    "indexs = np.array(indexs)"
   ]
  },
  {
   "cell_type": "code",
   "execution_count": 59,
   "metadata": {},
   "outputs": [],
   "source": [
    "ds = xr.Dataset(\n",
    "    data_vars=dict(\n",
    "        rmm1=([\"time\"], rmm1),\n",
    "        rmm2=([\"time\"], rmm2),\n",
    "        noaa_index = ([\"time\"], indexs),\n",
    "    ),\n",
    "    coords=dict(\n",
    "        time=datetimes,\n",
    "    ),\n",
    "    attrs=dict(description=\"RMM index from NOAA data updated 04.09.2023\"),\n",
    ")"
   ]
  },
  {
   "cell_type": "code",
   "execution_count": 60,
   "metadata": {},
   "outputs": [
    {
     "name": "stdout",
     "output_type": "stream",
     "text": [
      "<xarray.Dataset>\n",
      "Dimensions:     (time: 15486)\n",
      "Coordinates:\n",
      "  * time        (time) datetime64[ns] 1980-11-10 1980-11-11 ... 2023-04-04\n",
      "Data variables:\n",
      "    rmm1        (time) float64 -1.04 -1.063 -1.053 -1.022 ... 0.0 0.0 0.0 0.0\n",
      "    rmm2        (time) float64 -0.249 -0.414 -0.5852 -0.7159 ... 0.0 0.0 0.0 0.0\n",
      "    noaa_index  (time) float64 1.0 1.0 1.0 1.0 1.0 1.0 ... 5.0 5.0 5.0 5.0 5.0\n",
      "Attributes:\n",
      "    description:  RMM index from NOAA data updated 04.09.2023\n"
     ]
    }
   ],
   "source": [
    "ds_time = ds.sel({'time':slice(np.datetime64(f'{start_yr}-{start_season}'),np.datetime64(f'{end_year}-{end_season}'))})\n",
    "ds_time.to_netcdf(dataset_dir + file_out)\n",
    "print(ds_time)"
   ]
  },
  {
   "cell_type": "code",
   "execution_count": 53,
   "metadata": {},
   "outputs": [],
   "source": [
    "index_clc = xr.open_dataset(dataset_dir + 'mjo_rmm_index_noaa_1980-11-15_2023-03-31.nc')"
   ]
  }
 ],
 "metadata": {
  "kernelspec": {
   "display_name": "PVtune",
   "language": "python",
   "name": "python3"
  },
  "language_info": {
   "codemirror_mode": {
    "name": "ipython",
    "version": 3
   },
   "file_extension": ".py",
   "mimetype": "text/x-python",
   "name": "python",
   "nbconvert_exporter": "python",
   "pygments_lexer": "ipython3",
   "version": "3.10.12"
  }
 },
 "nbformat": 4,
 "nbformat_minor": 2
}
